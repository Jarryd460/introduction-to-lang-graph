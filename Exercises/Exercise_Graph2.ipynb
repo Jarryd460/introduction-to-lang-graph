{
 "cells": [
  {
   "cell_type": "code",
   "execution_count": 23,
   "id": "696e0c1d",
   "metadata": {},
   "outputs": [],
   "source": [
    "from typing import Dict, TypedDict, List\n",
    "from langgraph.graph import StateGraph\n",
    "import math"
   ]
  },
  {
   "cell_type": "code",
   "execution_count": 24,
   "id": "fd6d8b13",
   "metadata": {},
   "outputs": [],
   "source": [
    "class AgentState(TypedDict):\n",
    "    values: List[int]\n",
    "    name: str\n",
    "    operation: str\n",
    "    result: str "
   ]
  },
  {
   "cell_type": "code",
   "execution_count": 25,
   "id": "e6e38bdf",
   "metadata": {},
   "outputs": [],
   "source": [
    "def calculate_node(state: AgentState) -> AgentState:\n",
    "    \"\"\"\n",
    "    This function handles multiple different inputs\n",
    "    \"\"\"\n",
    "\n",
    "    message = f\"Hi {state[\"name\"]}, your answer is: \"\n",
    "\n",
    "    if state[\"operation\"] == \"+\":\n",
    "        state[\"result\"] = f\"{message}{sum(state[\"values\"])}\"\n",
    "    elif state[\"operation\"] == \"*\":\n",
    "        state[\"result\"] = f\"{message}{math.prod(state[\"values\"])}\"\n",
    "    else:\n",
    "        state[\"result\"] = f\"{state[\"operation\"]} operation is not supported!\"\n",
    "\n",
    "    return state"
   ]
  },
  {
   "cell_type": "code",
   "execution_count": 26,
   "id": "c8733efc",
   "metadata": {},
   "outputs": [],
   "source": [
    "graph = StateGraph(AgentState)\n",
    "\n",
    "graph.add_node(\"calculate\", calculate_node)\n",
    "\n",
    "graph.set_entry_point(\"calculate\")\n",
    "graph.set_finish_point(\"calculate\")\n",
    "\n",
    "app = graph.compile()"
   ]
  },
  {
   "cell_type": "code",
   "execution_count": 27,
   "id": "31ac7ef4",
   "metadata": {},
   "outputs": [
    {
     "data": {
      "image/png": "[encoded data removed]",
      "text/plain": [
       "<IPython.core.display.Image object>"
      ]
     },
     "metadata": {},
     "output_type": "display_data"
    }
   ],
   "source": [
    "from IPython.display import Image, display\n",
    "display(Image(app.get_graph().draw_mermaid_png()))"
   ]
  },
  {
   "cell_type": "code",
   "execution_count": 28,
   "id": "2b4bd17f",
   "metadata": {},
   "outputs": [],
   "source": [
    "result = app.invoke({\"name\": \"Jarryd\", \"values\": [1,2,3,4], \"operation\": \"*\"})"
   ]
  },
  {
   "cell_type": "code",
   "execution_count": 29,
   "id": "dbf0c4d8",
   "metadata": {},
   "outputs": [
    {
     "name": "stdout",
     "output_type": "stream",
     "text": [
      "Hi Jarryd, your answer is: 24\n"
     ]
    }
   ],
   "source": [
    "print(result[\"result\"])"
   ]
  }
 ],
 "metadata": {
  "kernelspec": {
   "display_name": ".venv",
   "language": "python",
   "name": "python3"
  },
  "language_info": {
   "codemirror_mode": {
    "name": "ipython",
    "version": 3
   },
   "file_extension": ".py",
   "mimetype": "text/x-python",
   "name": "python",
   "nbconvert_exporter": "python",
   "pygments_lexer": "ipython3",
   "version": "3.13.5"
  }
 },
 "nbformat": 4,
 "nbformat_minor": 5
}
